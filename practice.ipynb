{
 "cells": [
  {
   "cell_type": "code",
   "execution_count": 1,
   "metadata": {},
   "outputs": [
    {
     "name": "stdout",
     "output_type": "stream",
     "text": [
      "my name is priti\n"
     ]
    }
   ],
   "source": [
    "print(\"my name is priti\")"
   ]
  },
  {
   "cell_type": "code",
   "execution_count": 11,
   "metadata": {},
   "outputs": [
    {
     "name": "stdout",
     "output_type": "stream",
     "text": [
      "Enter Number:2\n",
      "2 number is even\n"
     ]
    }
   ],
   "source": [
    "num = int(input('Enter Number:'))\n",
    "if(num%2==0):\n",
    "    print(num,'number is even')\n",
    "else:\n",
    "    print(num,'number is odd')\n"
   ]
  },
  {
   "cell_type": "code",
   "execution_count": 13,
   "metadata": {},
   "outputs": [
    {
     "name": "stdout",
     "output_type": "stream",
     "text": [
      "Enter number:10\n",
      "0\n",
      "1\n",
      "4\n",
      "9\n",
      "16\n",
      "25\n",
      "36\n",
      "49\n",
      "64\n",
      "81\n"
     ]
    }
   ],
   "source": [
    "n = int(input(\"Enter number:\"))\n",
    "for i in range(n):\n",
    "    i = i**2\n",
    "    #i =+ 1\n",
    "    print(i)"
   ]
  },
  {
   "cell_type": "code",
   "execution_count": 25,
   "metadata": {},
   "outputs": [
    {
     "ename": "IndentationError",
     "evalue": "expected an indented block (<ipython-input-25-dc89d6b64201>, line 2)",
     "output_type": "error",
     "traceback": [
      "\u001b[1;36m  File \u001b[1;32m\"<ipython-input-25-dc89d6b64201>\"\u001b[1;36m, line \u001b[1;32m2\u001b[0m\n\u001b[1;33m    num = int(input('Enter number:'))\u001b[0m\n\u001b[1;37m      ^\u001b[0m\n\u001b[1;31mIndentationError\u001b[0m\u001b[1;31m:\u001b[0m expected an indented block\n"
     ]
    }
   ],
   "source": [
    "def fact():\n",
    "num = int(input('Enter number:')) \n",
    "    \n",
    "if (num ==0) or (num== 1):\n",
    "    \n",
    "    return 1\n",
    "\n",
    "else:\n",
    "    \n",
    "     n * fact(num-1)\n",
    "    \n",
    "print(fact(num))\n"
   ]
  },
  {
   "cell_type": "code",
   "execution_count": 24,
   "metadata": {},
   "outputs": [
    {
     "name": "stdout",
     "output_type": "stream",
     "text": [
      "35\n",
      "7.0\n"
     ]
    }
   ],
   "source": [
    "list = [3,5,7,9,11]\n",
    "sum=0\n",
    "for i in list:\n",
    "    sum = sum + i\n",
    "print(sum)\n",
    "avg =sum/len(list)\n",
    "print(avg)"
   ]
  },
  {
   "cell_type": "code",
   "execution_count": 34,
   "metadata": {},
   "outputs": [
    {
     "name": "stdout",
     "output_type": "stream",
     "text": [
      "[11, 5, 7, 9, 3]\n"
     ]
    }
   ],
   "source": [
    "list = [3,5,7,9,11]\n",
    "a = list[0]\n",
    "list[0]=list[len(list)-1]\n",
    "list[len(list)-1]=a\n",
    "\n",
    "\n",
    "print(list)"
   ]
  },
  {
   "cell_type": "code",
   "execution_count": 39,
   "metadata": {},
   "outputs": [
    {
     "name": "stdout",
     "output_type": "stream",
     "text": [
      "1\n"
     ]
    }
   ],
   "source": [
    "list = [3,2,1,9,8,10]\n",
    "min = list[0]\n",
    "for a in list:\n",
    "    if a < min:\n",
    "        min = a\n",
    "print(min)"
   ]
  },
  {
   "cell_type": "code",
   "execution_count": null,
   "metadata": {},
   "outputs": [],
   "source": []
  }
 ],
 "metadata": {
  "kernelspec": {
   "display_name": "Python 3",
   "language": "python",
   "name": "python3"
  },
  "language_info": {
   "codemirror_mode": {
    "name": "ipython",
    "version": 3
   },
   "file_extension": ".py",
   "mimetype": "text/x-python",
   "name": "python",
   "nbconvert_exporter": "python",
   "pygments_lexer": "ipython3",
   "version": "3.7.3"
  }
 },
 "nbformat": 4,
 "nbformat_minor": 2
}
